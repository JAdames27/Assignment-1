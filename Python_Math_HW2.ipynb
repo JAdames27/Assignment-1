{
  "nbformat": 4,
  "nbformat_minor": 0,
  "metadata": {
    "colab": {
      "name": "Python Math HW2.ipynb",
      "provenance": [],
      "collapsed_sections": []
    },
    "kernelspec": {
      "name": "python3",
      "display_name": "Python 3"
    },
    "language_info": {
      "name": "python"
    }
  },
  "cells": [
    {
      "cell_type": "markdown",
      "source": [
        "# **Julian Adames-Ng, Homework 2**"
      ],
      "metadata": {
        "id": "sb1ZLxXTsmyp"
      }
    },
    {
      "cell_type": "markdown",
      "source": [
        "## **1.  Write a Python program to compute the eigenvalues and eigenvectors of a given square array.**"
      ],
      "metadata": {
        "id": "rRBC--qFsO2Y"
      }
    },
    {
      "cell_type": "code",
      "source": [
        "import math\n",
        "from scipy import linalg, sparse\n",
        "import numpy as np\n",
        "from numpy.linalg import inv, eig\n",
        "import sympy as sp\n",
        "from sympy import *\n",
        "\n",
        "def eVal():\n",
        "  #ask user to enter dimensions\n",
        "  n = int(input('Please enter a value, n, for the dimensions of your nxn matrix: '))\n",
        "\n",
        "  #create empty list to load\n",
        "  mTr1 = []\n",
        "  \n",
        "  #create the matrix:  \n",
        "  #outer loop to iterate rows\n",
        "  for r in range(1,n+1):\n",
        "    r1 = []\n",
        "    #inner loop to create given row, column by column\n",
        "    for c in range(1,n+1):\n",
        "      xi = float(input('Enter value: '))\n",
        "      r1.append(xi)\n",
        "    #stitch together rows\n",
        "    mTr1.append(r1)\n",
        "\n",
        "  #turn list intro array\n",
        "  mT1 = np.array(mTr1)\n",
        "  #create second matrix\n",
        "  lam = symbols('lam')\n",
        "  mT2 = lam*np.mat(np.identity(n))\n",
        "\n",
        "  mDiff = mT1-mT2\n",
        "  #change numeric matrix into symbolic matrix\n",
        "  mDiff1 = sp.Matrix(mDiff)\n",
        "\n",
        "  print('\\n')\n",
        "  display('Your matrix:', Matrix(mT1))\n",
        "\n",
        "  print('\\n')\n",
        "\n",
        "  #find symbolic determinant\n",
        "  mDet = mDiff1.det()\n",
        "\n",
        "  #solve to find eigenvalue(s)\n",
        "  eVal = solve(mDet, lam)\n",
        "  display('Eigenvalue(s): ', eVal) \n",
        "\n",
        "  #did not know this function existed until this point\n",
        "  w, v = eig(mT1)\n",
        "  \n",
        "  count = 0\n",
        "  #load rows into matrix\n",
        "  for i in w:\n",
        "    print('\\nEigenvector corresponsing to ', i, ':')\n",
        "    w1 = []\n",
        "    #load column entries of each row into a row\n",
        "    for j in v:\n",
        "      w1.append(j[count])\n",
        "    #use Matrix() to display 'symbolically'\n",
        "    w11 = Matrix(w1)\n",
        "\n",
        "    #v1 = v[:, count]\n",
        "    display(w11)\n",
        "    #print(w2)\n",
        "    count += 1\n",
        "\n",
        "eVal()"
      ],
      "metadata": {
        "id": "UreRoV8v7x3N",
        "colab": {
          "base_uri": "https://localhost:8080/",
          "height": 419
        },
        "outputId": "f0db0ae9-b9d7-4bd6-8bac-d7359076e55e"
      },
      "execution_count": null,
      "outputs": [
        {
          "output_type": "stream",
          "name": "stdout",
          "text": [
            "Please enter a value, n, for the dimensions of your nxn matrix: 2\n",
            "Enter value: 1\n",
            "Enter value: 2\n",
            "Enter value: 3\n",
            "Enter value: 4\n",
            "\n",
            "\n"
          ]
        },
        {
          "output_type": "display_data",
          "data": {
            "application/vnd.google.colaboratory.intrinsic+json": {
              "type": "string"
            },
            "text/plain": [
              "'Your matrix:'"
            ]
          },
          "metadata": {}
        },
        {
          "output_type": "display_data",
          "data": {
            "text/latex": "$\\displaystyle \\left[\\begin{matrix}1.0 & 2.0\\\\3.0 & 4.0\\end{matrix}\\right]$",
            "text/plain": [
              "Matrix([\n",
              "[1.0, 2.0],\n",
              "[3.0, 4.0]])"
            ]
          },
          "metadata": {}
        },
        {
          "output_type": "stream",
          "name": "stdout",
          "text": [
            "\n",
            "\n"
          ]
        },
        {
          "output_type": "display_data",
          "data": {
            "application/vnd.google.colaboratory.intrinsic+json": {
              "type": "string"
            },
            "text/plain": [
              "'Eigenvalue(s): '"
            ]
          },
          "metadata": {}
        },
        {
          "output_type": "display_data",
          "data": {
            "text/plain": [
              "[-0.372281323269014, 5.37228132326901]"
            ]
          },
          "metadata": {}
        },
        {
          "output_type": "stream",
          "name": "stdout",
          "text": [
            "\n",
            "Eigenvector corresponsing to  -0.3722813232690143 :\n"
          ]
        },
        {
          "output_type": "display_data",
          "data": {
            "text/latex": "$\\displaystyle \\left[\\begin{matrix}-0.824564840132394\\\\0.565767464968992\\end{matrix}\\right]$",
            "text/plain": [
              "Matrix([\n",
              "[-0.824564840132394],\n",
              "[ 0.565767464968992]])"
            ]
          },
          "metadata": {}
        },
        {
          "output_type": "stream",
          "name": "stdout",
          "text": [
            "\n",
            "Eigenvector corresponsing to  5.372281323269014 :\n"
          ]
        },
        {
          "output_type": "display_data",
          "data": {
            "text/latex": "$\\displaystyle \\left[\\begin{matrix}-0.415973557919284\\\\-0.909376709132124\\end{matrix}\\right]$",
            "text/plain": [
              "Matrix([\n",
              "[-0.415973557919284],\n",
              "[-0.909376709132124]])"
            ]
          },
          "metadata": {}
        }
      ]
    },
    {
      "cell_type": "markdown",
      "source": [
        "## **2. Write a Python program to compute the determinant of an array.**"
      ],
      "metadata": {
        "id": "mcXRWW_MuDBR"
      }
    },
    {
      "cell_type": "code",
      "source": [
        "import math\n",
        "from scipy import linalg, sparse\n",
        "import numpy as np\n",
        "from numpy.linalg import inv, eig\n",
        "import sympy as sp\n",
        "from sympy import *\n",
        "\n",
        "def mDet():\n",
        "  #ask user to enter dimensions\n",
        "  n = int(input('Please enter a value, n, for the dimensions of your nxn matrix: '))\n",
        "\n",
        "  #create empty list to load\n",
        "  mTr1 = []\n",
        "  \n",
        "  #create the matrix:  \n",
        "  #outer loop to iterate rows\n",
        "  for r in range(1,n+1):\n",
        "    r1 = []\n",
        "    #inner loop to create given row, column by column\n",
        "    for c in range(1,n+1):\n",
        "      xi = float(input('Enter value: '))\n",
        "      r1.append(xi)\n",
        "    #stitch together rows\n",
        "    mTr1.append(r1)\n",
        "\n",
        "  #turn list intro array\n",
        "  #mT1 = np.matrix(np.array(mTr1))\n",
        "  mT1 = Matrix(np.array(mTr1))\n",
        "\n",
        "  #use numerical determinant solver\n",
        "  #mDet = np.linalg.det(mT1)\n",
        "  print('\\n')\n",
        "  display('Your matrix: ', mT1)\n",
        "  mDet = det(mT1)\n",
        "  print('\\nThe determinant is: ')\n",
        "  display(mDet)\n",
        "\n",
        "mDet()"
      ],
      "metadata": {
        "id": "E52JpHEyi5yL",
        "colab": {
          "base_uri": "https://localhost:8080/",
          "height": 253
        },
        "outputId": "321025df-aa71-45e9-968f-74a022e42246"
      },
      "execution_count": null,
      "outputs": [
        {
          "output_type": "stream",
          "name": "stdout",
          "text": [
            "Please enter a value, n, for the dimensions of your nxn matrix: 2\n",
            "Enter value: 1\n",
            "Enter value: 2\n",
            "Enter value: 3\n",
            "Enter value: 4\n",
            "\n",
            "\n"
          ]
        },
        {
          "output_type": "display_data",
          "data": {
            "application/vnd.google.colaboratory.intrinsic+json": {
              "type": "string"
            },
            "text/plain": [
              "'Your matrix: '"
            ]
          },
          "metadata": {}
        },
        {
          "output_type": "display_data",
          "data": {
            "text/latex": "$\\displaystyle \\left[\\begin{matrix}1.0 & 2.0\\\\3.0 & 4.0\\end{matrix}\\right]$",
            "text/plain": [
              "Matrix([\n",
              "[1.0, 2.0],\n",
              "[3.0, 4.0]])"
            ]
          },
          "metadata": {}
        },
        {
          "output_type": "stream",
          "name": "stdout",
          "text": [
            "\n",
            "The determinant is: \n"
          ]
        },
        {
          "output_type": "display_data",
          "data": {
            "text/latex": "$\\displaystyle -2.0$",
            "text/plain": [
              "-2.00000000000000"
            ]
          },
          "metadata": {}
        }
      ]
    },
    {
      "cell_type": "markdown",
      "source": [
        "## **3. Write a Python program that solves a system of inequalities with a 4 x 4 square matrix A where Ax<=b.**"
      ],
      "metadata": {
        "id": "AOiAT9ZpyRSK"
      }
    },
    {
      "cell_type": "code",
      "source": [
        "import math\n",
        "from scipy import linalg, sparse\n",
        "import numpy as np\n",
        "from numpy.linalg import inv, eig\n",
        "import sympy as sp\n",
        "from sympy import *\n",
        "\n",
        "def mMat():\n",
        "  #ask user to enter dimensions\n",
        "  print('Please enter a 4x4 matrix, A: ')\n",
        "\n",
        "  #create empty list to load\n",
        "  mTr1 = []\n",
        "\n",
        "  print('\\nFirst Row: ')\n",
        "  \n",
        "  #create the matrix:  \n",
        "  #outer loop to iterate rows\n",
        "  for r in range(1,5):\n",
        "    r1 = []\n",
        "    #inner loop to create given row, column by column\n",
        "    for c in range(1,5):\n",
        "      xi = float(input('Enter value: '))\n",
        "      r1.append(xi)\n",
        "    #stitch together rows\n",
        "    mTr1.append(r1)\n",
        "    if r < 4:\n",
        "      print('\\nNext Row: ')\n",
        "    \n",
        "  print('\\n')\n",
        "\n",
        "  #empty list to become column vector b\n",
        "  b = []\n",
        "\n",
        "  #load inputs into b\n",
        "  print('Please enter a 4x1 column vector, b: ')\n",
        "  for c in range(1, 5):\n",
        "    bi = float(input('Enter value: '))\n",
        "    b.append(bi)\n",
        "  \n",
        "  #turn into symbolic matrices to display nicely\n",
        "  mT1 = Matrix(mTr1)\n",
        "  bMat = Matrix(b)\n",
        "  xMat = Matrix(np.linalg.solve(mTr1, b))\n",
        "\n",
        "  print('\\n')\n",
        "  display('Matrix A: ', mT1)\n",
        "  print('\\n')\n",
        "  display('Vector b: ', bMat)\n",
        "  print('\\n')\n",
        "\n",
        "  x = Symbol('x')\n",
        "  \n",
        "  #display solution to Ax=b as a column vector\n",
        "  display('Solution to Ax=b: ', xMat)\n",
        "  #display solutions to each row inequality\n",
        "  print('\\nSolutions to each row Ai*xi <= bi:')\n",
        "  i = 1\n",
        "  for n in xMat:\n",
        "    print('\\nx_', i,': ')\n",
        "    expr = x <= n\n",
        "    display(expr)\n",
        "    i += 1\n",
        "\n",
        "mMat()\n"
      ],
      "metadata": {
        "colab": {
          "base_uri": "https://localhost:8080/",
          "height": 1000
        },
        "id": "rdqV8KXByXTZ",
        "outputId": "e14bfba7-f97b-402c-d65b-12f104034435"
      },
      "execution_count": 85,
      "outputs": [
        {
          "output_type": "stream",
          "name": "stdout",
          "text": [
            "Please enter a 4x4 matrix, A: \n",
            "\n",
            "First Row: \n",
            "Enter value: 0\n",
            "Enter value: 1\n",
            "Enter value: 1\n",
            "Enter value: -2\n",
            "\n",
            "Next Row: \n",
            "Enter value: 1\n",
            "Enter value: 2\n",
            "Enter value: -1\n",
            "Enter value: 0\n",
            "\n",
            "Next Row: \n",
            "Enter value: 2\n",
            "Enter value: 4\n",
            "Enter value: 1\n",
            "Enter value: -3\n",
            "\n",
            "Next Row: \n",
            "Enter value: 1\n",
            "Enter value: -4\n",
            "Enter value: -7\n",
            "Enter value: -1\n",
            "\n",
            "\n",
            "Please enter a 4x1 column vector, b: \n",
            "Enter value: -3\n",
            "Enter value: 2\n",
            "Enter value: -2\n",
            "Enter value: -19\n",
            "\n",
            "\n"
          ]
        },
        {
          "output_type": "display_data",
          "data": {
            "application/vnd.google.colaboratory.intrinsic+json": {
              "type": "string"
            },
            "text/plain": [
              "'Matrix A: '"
            ]
          },
          "metadata": {}
        },
        {
          "output_type": "display_data",
          "data": {
            "text/latex": "$\\displaystyle \\left[\\begin{matrix}0.0 & 1.0 & 1.0 & -2.0\\\\1.0 & 2.0 & -1.0 & 0.0\\\\2.0 & 4.0 & 1.0 & -3.0\\\\1.0 & -4.0 & -7.0 & -1.0\\end{matrix}\\right]$",
            "text/plain": [
              "Matrix([\n",
              "[0.0,  1.0,  1.0, -2.0],\n",
              "[1.0,  2.0, -1.0,  0.0],\n",
              "[2.0,  4.0,  1.0, -3.0],\n",
              "[1.0, -4.0, -7.0, -1.0]])"
            ]
          },
          "metadata": {}
        },
        {
          "output_type": "stream",
          "name": "stdout",
          "text": [
            "\n",
            "\n"
          ]
        },
        {
          "output_type": "display_data",
          "data": {
            "application/vnd.google.colaboratory.intrinsic+json": {
              "type": "string"
            },
            "text/plain": [
              "'Vector b: '"
            ]
          },
          "metadata": {}
        },
        {
          "output_type": "display_data",
          "data": {
            "text/latex": "$\\displaystyle \\left[\\begin{matrix}-3.0\\\\2.0\\\\-2.0\\\\-19.0\\end{matrix}\\right]$",
            "text/plain": [
              "Matrix([\n",
              "[ -3.0],\n",
              "[  2.0],\n",
              "[ -2.0],\n",
              "[-19.0]])"
            ]
          },
          "metadata": {}
        },
        {
          "output_type": "stream",
          "name": "stdout",
          "text": [
            "\n",
            "\n"
          ]
        },
        {
          "output_type": "display_data",
          "data": {
            "application/vnd.google.colaboratory.intrinsic+json": {
              "type": "string"
            },
            "text/plain": [
              "'Solution to Ax=b: '"
            ]
          },
          "metadata": {}
        },
        {
          "output_type": "display_data",
          "data": {
            "text/latex": "$\\displaystyle \\left[\\begin{matrix}-1.0\\\\2.0\\\\1.0\\\\3.0\\end{matrix}\\right]$",
            "text/plain": [
              "Matrix([\n",
              "[-1.0],\n",
              "[ 2.0],\n",
              "[ 1.0],\n",
              "[ 3.0]])"
            ]
          },
          "metadata": {}
        },
        {
          "output_type": "stream",
          "name": "stdout",
          "text": [
            "\n",
            "Solutions to each row Ai*xi <= bi:\n",
            "\n",
            "x_ 1 : \n"
          ]
        },
        {
          "output_type": "display_data",
          "data": {
            "text/latex": "$\\displaystyle x \\leq -1.0$",
            "text/plain": [
              "x <= -1.0"
            ]
          },
          "metadata": {}
        },
        {
          "output_type": "stream",
          "name": "stdout",
          "text": [
            "\n",
            "x_ 2 : \n"
          ]
        },
        {
          "output_type": "display_data",
          "data": {
            "text/latex": "$\\displaystyle x \\leq 2.0$",
            "text/plain": [
              "x <= 2.0"
            ]
          },
          "metadata": {}
        },
        {
          "output_type": "stream",
          "name": "stdout",
          "text": [
            "\n",
            "x_ 3 : \n"
          ]
        },
        {
          "output_type": "display_data",
          "data": {
            "text/latex": "$\\displaystyle x \\leq 1.0$",
            "text/plain": [
              "x <= 1.0"
            ]
          },
          "metadata": {}
        },
        {
          "output_type": "stream",
          "name": "stdout",
          "text": [
            "\n",
            "x_ 4 : \n"
          ]
        },
        {
          "output_type": "display_data",
          "data": {
            "text/latex": "$\\displaystyle x \\leq 3.0$",
            "text/plain": [
              "x <= 3.0"
            ]
          },
          "metadata": {}
        }
      ]
    }
  ]
}