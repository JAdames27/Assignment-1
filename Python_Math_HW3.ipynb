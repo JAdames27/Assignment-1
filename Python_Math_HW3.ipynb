{
  "nbformat": 4,
  "nbformat_minor": 0,
  "metadata": {
    "colab": {
      "name": "Python Math HW3.ipynb",
      "provenance": [],
      "collapsed_sections": []
    },
    "kernelspec": {
      "name": "python3",
      "display_name": "Python 3"
    },
    "language_info": {
      "name": "python"
    }
  },
  "cells": [
    {
      "cell_type": "markdown",
      "source": [
        "#Julian Adames-Ng, Homework 3"
      ],
      "metadata": {
        "id": "jz9lUQFdRoiF"
      }
    },
    {
      "cell_type": "markdown",
      "source": [
        "P1. The weights of steers in a herd are distributed normally.  The variance is 40,000 and the mean steer weight is 1300 lbs.  Find the probability that the weight of a randomly selected steer is greater than 979 lbs. (Round your answer to 4 decimal places)"
      ],
      "metadata": {
        "id": "iOL-_IzuRsvO"
      }
    },
    {
      "cell_type": "code",
      "execution_count": 37,
      "metadata": {
        "colab": {
          "base_uri": "https://localhost:8080/"
        },
        "id": "yPxoNIuoRnrP",
        "outputId": "79be64fd-3a3c-4662-cdc0-0a7fd2d3bb50"
      },
      "outputs": [
        {
          "output_type": "stream",
          "name": "stdout",
          "text": [
            "Enter the mean: 1300\n",
            "Enter the variance: 40000\n",
            "Enter x: 979\n",
            "\n",
            "The z-score is:  -1.605\n",
            "\n",
            "Greater than or less than x?\n",
            "Enter g for greater or l for less: g\n",
            "\n",
            "The probability is:  0.9458\n"
          ]
        }
      ],
      "source": [
        "import scipy.stats as stats\n",
        "import numpy as np\n",
        "import sympy as sp\n",
        "import math\n",
        "\n",
        "\n",
        "def zScore():\n",
        "  #mean = 1300\n",
        "  mean = float(input('Enter the mean: '))\n",
        "  #var = 40000\n",
        "  var = float(input('Enter the variance: '))\n",
        "  sD = math.sqrt(var)\n",
        "  #x = 979\n",
        "  x = float(input('Enter x: '))\n",
        "  z = (x - mean)/sD\n",
        "  print('\\nThe z-score is: ', z)\n",
        "\n",
        "  gL = input('\\nGreater than or less than x?\\nEnter g for greater or l for less: ')\n",
        "  if gL.upper() == 'L':\n",
        "    p_val = round(stats.norm.cdf(x, mean, sD), 4)\n",
        "    print('\\nThe probability is: ', p_val)\n",
        "  elif gL.upper() == 'G':\n",
        "    p_val = round(stats.norm.cdf(mean, x, sD), 4)\n",
        "    print('\\nThe probability is: ', p_val)    \n",
        "  else:\n",
        "    print('\\nYou entered an incorrect value. Please start over.')\n",
        "\n",
        "zScore()"
      ]
    },
    {
      "cell_type": "markdown",
      "source": [
        "P2. SVGA members manufactured  by TSI Electronics have life spans that have a normal distribution with a variance of 1,960,000 and a mean life span of 11,000 hours.  If a SVGA monitor is selected at random, find the probability that the life span of the monitor will be more than 8340 hours.  (Round your answer to 4 decimal places)"
      ],
      "metadata": {
        "id": "kbDAqMdMcDqO"
      }
    },
    {
      "cell_type": "code",
      "source": [
        "import scipy.stats as stats\n",
        "import numpy as np\n",
        "import sympy as sp\n",
        "import math\n",
        "\n",
        "\n",
        "def zScore():\n",
        "  mean = float(input('Enter the mean: '))\n",
        "  var = float(input('Enter the variance: '))\n",
        "  sD = math.sqrt(var)\n",
        "  x = float(input('Enter x: '))\n",
        "  z = (x - mean)/sD\n",
        "  print('\\nThe z-score is: ', z)\n",
        "\n",
        "  gL = input('\\nGreater than or less than x?\\nEnter g for greater or l for less: ')\n",
        "  if gL.upper() == 'L':\n",
        "    p_val = round(stats.norm.cdf(x, mean, sD), 4)\n",
        "    print('The probability is: ', p_val)\n",
        "  elif gL.upper() == 'G':\n",
        "    p_val = round(stats.norm.cdf(mean, x, sD), 4)\n",
        "    print('\\nThe probability is: ', p_val)    \n",
        "  else:\n",
        "    print('\\nYou entered an incorrect value. Please start over.')\n",
        "\n",
        "zScore()"
      ],
      "metadata": {
        "colab": {
          "base_uri": "https://localhost:8080/"
        },
        "id": "UPGJoyQbciza",
        "outputId": "b730cc25-9a2b-4f0a-9b23-b65ccd378ce5"
      },
      "execution_count": null,
      "outputs": [
        {
          "output_type": "stream",
          "name": "stdout",
          "text": [
            "Enter the mean: 11000\n",
            "Enter the variance: 1960000\n",
            "Enter x: 8340\n",
            "\n",
            "The z-score is:  -1.9\n",
            "\n",
            "Greater than or less than x?\n",
            "Enter g for greater or l for less: g\n",
            "\n",
            "The probability is:  0.9713\n"
          ]
        }
      ]
    },
    {
      "cell_type": "markdown",
      "source": [
        "P3. Suppose the mean income of firms in the industry for a year is 80 million dollars with a standard deviation of 3 million dollars.  If incomes for the industry are distributed  normally, what is the probability that a randomly selected firm will earn between 83 and 85 million dollars? (Round your answer to 4 decimal places)"
      ],
      "metadata": {
        "id": "Mgf65D_MdBTx"
      }
    },
    {
      "cell_type": "code",
      "source": [
        "import scipy.stats as stats\n",
        "import numpy as np\n",
        "import sympy as sp\n",
        "import math\n",
        "\n",
        "\n",
        "def zScore():\n",
        "  mean = float(input('Enter the mean: '))\n",
        "  sD = float(input('Enter the standard deviation: '))\n",
        "  x1 = float(input('Enter x1: '))\n",
        "  x2 = float(input('Enter x2: '))\n",
        "  z1 = (x1 - mean)/sD\n",
        "  z2 = (x2 - mean)/sD\n",
        "  print('\\nThe z-scores are:\\nz1 = ', z1,'\\nz2 = ', z2)\n",
        " \n",
        "  p_val = round(abs(stats.norm.cdf(x1, mean, sD) - stats.norm.cdf(x2, mean, sD)), 4)\n",
        "  print('\\nThe probability is: ', p_val)\n",
        "  \n",
        "zScore()"
      ],
      "metadata": {
        "colab": {
          "base_uri": "https://localhost:8080/"
        },
        "id": "S1KGfKIVdXO8",
        "outputId": "52828405-4556-4c95-ef00-5a1330d26fdf"
      },
      "execution_count": null,
      "outputs": [
        {
          "output_type": "stream",
          "name": "stdout",
          "text": [
            "Enter the mean: 80000000\n",
            "Enter the standard deviation: 3000000\n",
            "Enter x1: 83000000\n",
            "Enter x2: 85000000\n",
            "\n",
            "The z-scores are:\n",
            "z1 =  1.0 \n",
            "z2 =  1.6666666666666667\n",
            "\n",
            "The probability is:  0.1109\n"
          ]
        }
      ]
    },
    {
      "cell_type": "markdown",
      "source": [
        "P4. Suppose GRE Verbal scores are normally distributed with a mean of 456 and a standard deviation of 123.  A university plans to offer tutoring jobs to students whose scores are in the top 14%.  What is the minimum score required for the job offer?  (Round your answer to the nearest whole number, if necessary)"
      ],
      "metadata": {
        "id": "XDOSpZZelSlS"
      }
    },
    {
      "cell_type": "code",
      "source": [
        "import scipy.stats as stats\n",
        "import numpy as np\n",
        "import sympy as sp\n",
        "import math\n",
        "\n",
        "def xScore():\n",
        "  mean = float(input('Enter the mean: '))\n",
        "  #var = 40000\n",
        "  sD = float(input('Enter the standard deviation: '))\n",
        "  #x = 979\n",
        "  p = float(input('Enter the cut-off p-value: '))\n",
        "  \n",
        "  \n",
        "\n",
        "  gL = input('\\nGreater than or less than x?\\nEnter g for greater or l for less: ')\n",
        "  if gL.upper() == 'L':\n",
        "    z =  stats.norm.ppf(p)\n",
        "    x = z*sD + mean\n",
        "    print('\\nThe maximum score is: ', int(round(x, 0)))\n",
        "\n",
        "  elif gL.upper() == 'G':\n",
        "    z =  stats.norm.ppf(1-p)\n",
        "    x = z*sD + mean\n",
        "    print('\\nThe minimum score is: ', int(round(x, 0)))\n",
        "  else:\n",
        "    print('\\nYou entered an incorrect value. Please start over.')\n",
        "\n",
        "\n",
        "\n",
        "  \n",
        "\n",
        "xScore()"
      ],
      "metadata": {
        "colab": {
          "base_uri": "https://localhost:8080/"
        },
        "id": "eRQz8007n2KA",
        "outputId": "c879f3c1-87e4-4a99-8c2d-276d312e06e5"
      },
      "execution_count": null,
      "outputs": [
        {
          "output_type": "stream",
          "name": "stdout",
          "text": [
            "Enter the mean: 456\n",
            "Enter the standard deviation: 123\n",
            "Enter the cut-off p-value: .14\n",
            "\n",
            "Greater than or less than x?\n",
            "Enter g for greater or l for less: g\n",
            "\n",
            "The minimum score is:  589\n"
          ]
        }
      ]
    },
    {
      "cell_type": "markdown",
      "source": [
        "P5. The lengths of nails produced in a factory are normally distributed with a mean of 6.13 centimeters and a standard deviation of 0.06 centimeters.  Find the two lengths that separate the top 7%.  These lengths could serve as limits used to identify which nails should be rejected.  (Round your answer to the nearest hundredth, if necessary)"
      ],
      "metadata": {
        "id": "KTUelCKNlw3z"
      }
    },
    {
      "cell_type": "code",
      "source": [
        "import scipy.stats as stats\n",
        "import numpy as np\n",
        "import sympy as sp\n",
        "import math\n",
        "\n",
        "def xScore():\n",
        "  mean = float(input('Enter the mean: '))\n",
        "  #var = 40000\n",
        "  sD = float(input('Enter the standard deviation: '))\n",
        "  #x = 979\n",
        "  p1 = float(input('Enter the p-value for the left tail: '))\n",
        "  p2 = float(input('Enter the p-value for the right tail: '))\n",
        "  \n",
        "  z1 =  stats.norm.ppf(p1)\n",
        "  z2 =  stats.norm.ppf(1-p2)\n",
        "\n",
        "  x1 = z1*sD + mean\n",
        "  x2 = z2*sD + mean\n",
        "\n",
        "  print('\\nLength 1: ', round(x1, 2))\n",
        "  print('Length 2: ', round(x2, 2))\n",
        "\n",
        "\n",
        "xScore()"
      ],
      "metadata": {
        "colab": {
          "base_uri": "https://localhost:8080/"
        },
        "id": "Ow5tx5n9vlBE",
        "outputId": "4df7eb35-3fda-4e2e-c5c3-5c30ebe80d82"
      },
      "execution_count": 38,
      "outputs": [
        {
          "output_type": "stream",
          "name": "stdout",
          "text": [
            "Enter the mean: 6.13\n",
            "Enter the standard deviation: .06\n",
            "Enter the p-value for the left tail: .07\n",
            "Enter the p-value for the right tail: .07\n",
            "\n",
            "Length 1:  6.04\n",
            "Length 2:  6.22\n"
          ]
        }
      ]
    },
    {
      "cell_type": "markdown",
      "source": [
        "P6. \n",
        "\n",
        "An English professor assigns letter grades on a test according to the following scheme.\n",
        "\n",
        "    A: Top 13% of scores\n",
        "\n",
        "    B: Scores below the top 13% and above the bottom 55%\n",
        "\n",
        "    C: Scores below the top 45% and above the bottom 20%\n",
        "\n",
        "    D: Scores below the top 80% and above the bottom 9%\n",
        "\n",
        "    F: Bottom 9% of scores\n",
        "\n",
        "  Scores on the test are normally distributed with a mean of 78.8 and a standard deviation of 9.8.  Find the numerical limites for a C grade.  Round your answers to the nearest whole number, if necesary)"
      ],
      "metadata": {
        "id": "01kKZCXmmWpB"
      }
    },
    {
      "cell_type": "code",
      "source": [
        "import scipy.stats as stats\n",
        "import numpy as np\n",
        "import sympy as sp\n",
        "import math\n",
        "\n",
        "def cGrade():\n",
        "  mean = float(input('Enter the mean: '))\n",
        "  #var = 40000\n",
        "  sD = float(input('Enter the standard deviation: '))\n",
        "  #x = 979\n",
        "  p1 = float(input('Enter the p-value for the left tail: '))\n",
        "  p2 = float(input('Enter the p-value for the right tail: '))\n",
        "  \n",
        "  z1 =  stats.norm.ppf(p1)\n",
        "  z2 =  stats.norm.ppf(1-p2)\n",
        "\n",
        "  x1 = z1*sD + mean\n",
        "  x2 = z2*sD + mean\n",
        "\n",
        "  print('\\nLower limit for a C grade: ', round(x1, 0))\n",
        "  print('\\nUpper limit for a C grade: ', round(x2, 0))\n",
        "\n",
        "\n",
        "cGrade()"
      ],
      "metadata": {
        "colab": {
          "base_uri": "https://localhost:8080/"
        },
        "id": "XnYeas2I3dUs",
        "outputId": "39e137c5-0b16-45a4-e789-a97597f76664"
      },
      "execution_count": null,
      "outputs": [
        {
          "output_type": "stream",
          "name": "stdout",
          "text": [
            "Enter the mean: 78.8\n",
            "Enter the standard deviation: 9.8\n",
            "Enter the p-value for the left tail: .2\n",
            "Enter the p-value for the right tail: .45\n",
            "\n",
            "Lower limit for a C grade:  71.0\n",
            "\n",
            "Upper limit for a C grade:  80.0\n"
          ]
        }
      ]
    },
    {
      "cell_type": "markdown",
      "source": [
        "P7. Suppose ACT Composite scores are normally distributed with a mean of 21.2 and a standard deviation of 5.4.  A university plans to admit students whose scores are in the top 45%.  What is the minimum score required for admission?  (Round you answer to the nearest tenth, if necessary)"
      ],
      "metadata": {
        "id": "-Wkdsw43nWAO"
      }
    },
    {
      "cell_type": "code",
      "source": [
        "import scipy.stats as stats\n",
        "import numpy as np\n",
        "import sympy as sp\n",
        "import math\n",
        "\n",
        "def sACT():\n",
        "  mean = float(input('Enter the mean: '))\n",
        "  #var = 40000\n",
        "  sD = float(input('Enter the standard deviation: '))\n",
        "  #x = 979\n",
        "  pRight = float(input('Enter the p-value for the right tail: '))\n",
        "  \n",
        "  z =  stats.norm.ppf(1-pRight)\n",
        "\n",
        "  x = z*sD + mean\n",
        "\n",
        "  print('\\nMinimum score for admission: ', round(x, 1))\n",
        "\n",
        "\n",
        "sACT()"
      ],
      "metadata": {
        "colab": {
          "base_uri": "https://localhost:8080/"
        },
        "id": "gFxBArUD6VkA",
        "outputId": "2529d865-4a09-4946-cc63-683bebe0cc6a"
      },
      "execution_count": null,
      "outputs": [
        {
          "output_type": "stream",
          "name": "stdout",
          "text": [
            "Enter the mean: 21.2\n",
            "Enter the standard deviation: 5.4\n",
            "Enter the p-value for the right tail: .45\n",
            "\n",
            "Minimum score for admission:  21.9\n"
          ]
        }
      ]
    },
    {
      "cell_type": "markdown",
      "source": [
        "P8. Consider the probability that less than 11 out of 151 students will not graduate on time.  Assume the probability that a given student will not graduate on time is 9%.  Approximate the probability using the normal distribution.  (Round your answer to 4 decimal places)"
      ],
      "metadata": {
        "id": "jkPk5s8LmxoQ"
      }
    },
    {
      "cell_type": "code",
      "source": [
        "import math\n",
        "import scipy.stats as stats\n",
        "\n",
        "def bProb():\n",
        "  \n",
        "  p = .09\n",
        "  q = 1 - p\n",
        "  n = 151\n",
        "  mean = n*p\n",
        "  sD = (mean*q)**(1/2)\n",
        "  x = 11\n",
        "\n",
        "  #binomial prob\n",
        "  sum = 0\n",
        "  for r in range(0,x):\n",
        "    bProb = (math.factorial(n)/((math.factorial(n-r)*(math.factorial(r))))) * ((p)**(r))*((q)**(n-r))\n",
        "    sum = sum + bProb\n",
        "\n",
        "  #normal approximation\n",
        "  #continuity correction for less than x\n",
        "  approx = stats.norm.cdf(x-0.5, mean, sD)\n",
        "\n",
        "  print('The binomial probability is ', round(sum, 4))\n",
        "  print('The probability approximation is ', round(approx, 4))\n",
        "  print('\\nWe see that the approximation is reasonably close to the binomial probability.')\n",
        "\n",
        "bProb()"
      ],
      "metadata": {
        "colab": {
          "base_uri": "https://localhost:8080/"
        },
        "id": "xJ89_4msnH7I",
        "outputId": "b4b4d242-579a-43b1-d514-d2491c12958a"
      },
      "execution_count": null,
      "outputs": [
        {
          "output_type": "stream",
          "name": "stdout",
          "text": [
            "The binomial probability is  0.192\n",
            "The probability approximation is  0.1898\n",
            "\n",
            "We see that the approximation is reasonably close to the binomial probability.\n"
          ]
        }
      ]
    },
    {
      "cell_type": "markdown",
      "source": [
        "P9. The mean lifetime of a tire is 48 months with a standard deviation of 7.  If 147 tires are sampled, what is the probability that the mean of the sample would be greater than 48.83 months?  (Round your answer to 4 decimal places)"
      ],
      "metadata": {
        "id": "JFnB9fhOrA4k"
      }
    },
    {
      "cell_type": "code",
      "source": [
        "import math\n",
        "import scipy.stats as stats\n",
        "\n",
        "#Central Limit Theorem\n",
        "def cLim():\n",
        "  mean = float(input('Enter the population mean: '))\n",
        "  sD = float(input('Enter the standard deviation: '))\n",
        "  n = int(input('Enter the value of n: '))\n",
        "  xBar = float(input('Enter the sample mean: '))\n",
        "  #since 'greater' we look to the right so swap the first two parameters\n",
        "  prob = stats.norm.cdf(mean, xBar, sD/(n**(1/2)))\n",
        "  print('The probability is ', round(prob, 4))\n",
        "\n",
        "cLim()"
      ],
      "metadata": {
        "colab": {
          "base_uri": "https://localhost:8080/"
        },
        "id": "4bk0NbdJrZ2B",
        "outputId": "94db8817-cc39-4dd9-a442-7c3363482f65"
      },
      "execution_count": null,
      "outputs": [
        {
          "output_type": "stream",
          "name": "stdout",
          "text": [
            "Enter the population mean: 48\n",
            "Enter the standard deviation: 7\n",
            "Enter the value of n: 147\n",
            "Enter the sample mean: 48.83\n",
            "The probability is  0.0753\n"
          ]
        }
      ]
    },
    {
      "cell_type": "markdown",
      "source": [
        "P10. The quality control manager at a computer manufacturing company believes that the mean life of a computer is 91 months, with a standard deviation of 10.  If he is correct, what is the probability that the mean of a sample of 68 computers would be greater than 93.54 months?  (Round your answer to 4 decimal places)"
      ],
      "metadata": {
        "id": "ihiAOo8mtk_L"
      }
    },
    {
      "cell_type": "code",
      "source": [
        "import math\n",
        "import scipy.stats as stats\n",
        "\n",
        "def pComp():\n",
        "  mean = float(input('Enter the population mean: '))\n",
        "  sD = float(input('Enter the standard deviation: '))\n",
        "  n = int(input('Enter the value of n: '))\n",
        "  xBar = float(input('Enter the sample mean: '))\n",
        "  prob = stats.norm.cdf(mean, xBar, sD/(n**(1/2)))\n",
        "  print('The probability is ', round(prob, 4))\n",
        "\n",
        "pComp()"
      ],
      "metadata": {
        "colab": {
          "base_uri": "https://localhost:8080/"
        },
        "id": "_a8dpFdmuAgd",
        "outputId": "cce7fdd5-856c-4cef-c3eb-fed9e9e73ce5"
      },
      "execution_count": null,
      "outputs": [
        {
          "output_type": "stream",
          "name": "stdout",
          "text": [
            "Enter the population mean: 91\n",
            "Enter the standard deviation: 10\n",
            "Enter the value of n: 68\n",
            "Enter the sample mean: 93.54\n",
            "The probability is  0.0181\n"
          ]
        }
      ]
    },
    {
      "cell_type": "markdown",
      "source": [
        "P11. A director of reservations believes that 7% of the ticketed passengers are no-shows.  If the director is right, what is the probability that the proportion of no-shows in a sample of 540 ticketed passengers would differ from the population proportion by less thatn 3%?  (Round your answers to 4 decimal places)"
      ],
      "metadata": {
        "id": "0qfbA7zGuomM"
      }
    },
    {
      "cell_type": "code",
      "source": [
        "import math\n",
        "import scipy.stats as stats\n",
        "\n",
        "def cInt():\n",
        "  pHat = .07\n",
        "  qHat = 1 - pHat\n",
        "  n = 540\n",
        "  sD = ((pHat*qHat)/n)**(1/2)\n",
        "  err = .03\n",
        "\n",
        "  uBound = pHat + err\n",
        "  lBound = pHat - err\n",
        "\n",
        "  pV1 = stats.norm.cdf(pHat, lBound, sD)\n",
        "  pV2 = stats.norm.cdf(pHat, uBound, sD)\n",
        "\n",
        "  print('The probability is ', round(abs(pV2 - pV1), 4))\n",
        "\n",
        "cInt()"
      ],
      "metadata": {
        "colab": {
          "base_uri": "https://localhost:8080/"
        },
        "id": "zGhJuS4nvERb",
        "outputId": "763b7c37-1deb-4614-8a6b-92d414513f6c"
      },
      "execution_count": null,
      "outputs": [
        {
          "output_type": "stream",
          "name": "stdout",
          "text": [
            "The probability is  0.9937\n"
          ]
        }
      ]
    },
    {
      "cell_type": "markdown",
      "source": [
        "P12. A bottle maker believes that 23% of his bottles are defective.  If the bottle maker is accurate, what is the probability that the proportion of defective bottles in a sample of 602 bottles would differ from the population proportion by greater than 4%? (Round your answer to 4 decimal places)"
      ],
      "metadata": {
        "id": "1PgRy68IxJid"
      }
    },
    {
      "cell_type": "code",
      "source": [
        "import math\n",
        "import scipy.stats as stats\n",
        "\n",
        "def cInt2():\n",
        "  pHat = .23\n",
        "  qHat = 1 - pHat\n",
        "  n = 602\n",
        "  sD = ((pHat*qHat)/n)**(1/2)\n",
        "  err = .04\n",
        "\n",
        "  uBound = pHat + err\n",
        "  lBound = pHat - err\n",
        "\n",
        "  pV1 = stats.norm.cdf(lBound, pHat, sD)\n",
        "  pV2 = stats.norm.cdf(pHat, uBound, sD)\n",
        "\n",
        "  print('The probability is ', round(pV2 + pV1, 4))\n",
        "\n",
        "cInt2()"
      ],
      "metadata": {
        "colab": {
          "base_uri": "https://localhost:8080/"
        },
        "id": "1VmzDiy7xgvb",
        "outputId": "93fa7db2-ae82-48da-86d6-bad4c70fef7b"
      },
      "execution_count": null,
      "outputs": [
        {
          "output_type": "stream",
          "name": "stdout",
          "text": [
            "The probability is  0.0197\n"
          ]
        }
      ]
    },
    {
      "cell_type": "markdown",
      "source": [
        "P13. A research company desires to know the mean consumption of beef per week among males over age 48.  Suppose a sample of size 208 is drawn with $\\bar{x} = 3.9$.  Assume $σ = 0.8$.  Construct the 80% confidence interval for the mean number of lb. of beef per week among males over 48.  (Round your answer to 1 decimal place)\n"
      ],
      "metadata": {
        "id": "XdUUrF6Zz5Js"
      }
    },
    {
      "cell_type": "code",
      "source": [
        "import math\n",
        "import scipy.stats as stats\n",
        "\n",
        "def cInt():\n",
        "  sMean = 3.9\n",
        "  n = 208\n",
        "  pSD = 0.8\n",
        "  #80% Confidence Interval\n",
        "  cInt = stats.norm.interval(0.80, sMean, pSD/(n**(1/2)))\n",
        "  print('80% Confidence Interval: ', cInt)\n",
        "  #Lower bound of confidence interval\n",
        "  print('\\nLower Bound (Rounded): ', round(cInt[0], 1))\n",
        "  #Upper bound of confidence interval\n",
        "  print('\\nUpper Bound (Rounded): ', round(cInt[1], 1))\n",
        "\n",
        "cInt()\n",
        "  "
      ],
      "metadata": {
        "colab": {
          "base_uri": "https://localhost:8080/"
        },
        "id": "cio5HRuOyGko",
        "outputId": "9b491162-e801-4a3e-9aa1-2b8e8b0020e8"
      },
      "execution_count": null,
      "outputs": [
        {
          "output_type": "stream",
          "name": "stdout",
          "text": [
            "80% Confidence Interval:  (3.828912309511966, 3.9710876904880337)\n",
            "\n",
            "Lower Bound (Rounded):  3.8\n",
            "\n",
            "Upper Bound (Rounded):  4.0\n"
          ]
        }
      ]
    },
    {
      "cell_type": "markdown",
      "source": [
        "P14. An economist wants to estimate the mean per capita income (in thousands of dollars) in a major city in California.  Suppose a sample of size 7472 is drawn with $\\bar{x} = 16.6$.  Assume $\\sigma = 11$.  Construct the 98% confidence interval for the mean per capita income.  (Round your answers to 1 decimal place)"
      ],
      "metadata": {
        "id": "v3pD7lUAl4sL"
      }
    },
    {
      "cell_type": "code",
      "source": [
        "import math\n",
        "import scipy.stats as stats\n",
        "\n",
        "def cInt():\n",
        "  sMean = 16.6\n",
        "  n = 7472\n",
        "  pSD = 11\n",
        "  #80% Confidence Interval\n",
        "  cInt = stats.norm.interval(0.98, sMean, pSD/(n**(1/2)))\n",
        "  print('80% Confidence Interval: ', cInt)\n",
        "  #Lower bound of confidence interval\n",
        "  print('\\nLower Bound (Rounded): ', round(cInt[0], 1))\n",
        "  #Upper bound of confidence interval\n",
        "  print('\\nUpper Bound (Rounded): ', round(cInt[1], 1))\n",
        "\n",
        "cInt()"
      ],
      "metadata": {
        "colab": {
          "base_uri": "https://localhost:8080/"
        },
        "id": "Yg6jIRPpmeSA",
        "outputId": "8e0338cc-c192-4851-ee0e-d598361af51a"
      },
      "execution_count": null,
      "outputs": [
        {
          "output_type": "stream",
          "name": "stdout",
          "text": [
            "80% Confidence Interval:  (16.303961011469998, 16.896038988530005)\n",
            "\n",
            "Lower Bound (Rounded):  16.3\n",
            "\n",
            "Upper Bound (Rounded):  16.9\n"
          ]
        }
      ]
    },
    {
      "cell_type": "markdown",
      "source": [
        "P15. Find the value of *t* such that 0.05 of the area under the curve is to the left of *t*.  Assume the degrees of freedom equals 26.\n",
        "\n"
      ],
      "metadata": {
        "id": "JwzEye9inTVi"
      }
    },
    {
      "cell_type": "markdown",
      "source": [
        "Below is the image that best describes the problem.\n",
        "\n",
        "![Screen Shot 2022-01-15 at 2.36.33 AM.png](data:image/png;base64,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)"
      ],
      "metadata": {
        "id": "kX3Yd113rE4k"
      }
    },
    {
      "cell_type": "code",
      "source": [
        "from scipy.stats import t\n",
        "\n",
        "def tScore():\n",
        "  #area to left of t is 0.05.\n",
        "  prob = t.ppf(.05, 26)\n",
        "  print(prob)\n",
        "\n",
        "tScore()"
      ],
      "metadata": {
        "colab": {
          "base_uri": "https://localhost:8080/"
        },
        "id": "7pRCHdCDrOYD",
        "outputId": "6952993f-d0c1-45a3-ddc7-39f8e6711edf"
      },
      "execution_count": 43,
      "outputs": [
        {
          "output_type": "stream",
          "name": "stdout",
          "text": [
            "-1.7056179197592731\n"
          ]
        }
      ]
    },
    {
      "cell_type": "markdown",
      "source": [
        "P16. The following measurements (in picocuries per liter) were recorded by a set of helium gas detectors installed in a laboratory facility:\n",
        "\n",
        "> 383.6, 347.1, 371.9, 347.6, 325.8, 337\n",
        "\n",
        "Using these measurements, construct a 90% confidence interval for the mean level of helium gas present in the facility.  Assume the population is normally distributed.\n",
        "\n"
      ],
      "metadata": {
        "id": "lO_LCnNhzEtV"
      }
    },
    {
      "cell_type": "code",
      "source": [
        "import math\n",
        "import scipy.stats as stats\n",
        "\n",
        "def hGas():\n",
        "  dS = [383.6, 347.1, 371.9, 347.6, 325.8, 337]\n",
        "  n = len(dS)\n",
        "  mean = sum(dS)/n\n",
        "  sqList = []\n",
        "  \n",
        "  for i in dS:\n",
        "    diff = i - mean\n",
        "    sQ = diff**2\n",
        "    sqList.append(sQ)\n",
        "  sumSq = sum(sqList)\n",
        "\n",
        "  sD = (sumSq/(n-1))**(1/2)\n",
        "  cT = t.ppf(0.95, n-1)\n",
        "  err = cT*(sD/(n**(1/2)))\n",
        "  \n",
        "  lBound = mean - err\n",
        "  uBound = mean + err\n",
        "  \n",
        "  #using the built in t.interval function to double check\n",
        "  cInt = stats.t.interval(0.90, n-1, mean, sD/(n**(1/2)))\n",
        "\n",
        "  print('Sample Mean: ', round(mean, 2))\n",
        "  print('Sample Standard Deviation: ', round(sD, 2))\n",
        "  print('Critical Value(s): t =', -1*round(cT, 3), 'and ', round(cT, 3))\n",
        "  print('\\nLower Bound: ', round(lBound, 2)) \n",
        "  print('Upper Bound: ', round(uBound, 2))\n",
        "  print('\\nConfidence Interval: \\n', cInt)\n",
        "\n",
        "hGas()"
      ],
      "metadata": {
        "colab": {
          "base_uri": "https://localhost:8080/"
        },
        "id": "5JqQPvgvzz6L",
        "outputId": "210b4e22-dd2c-4294-e313-3245aa41fb1f"
      },
      "execution_count": 49,
      "outputs": [
        {
          "output_type": "stream",
          "name": "stdout",
          "text": [
            "Sample Mean:  352.17\n",
            "Sample Standard Deviation:  21.68\n",
            "Critical Value(s): t = -2.015 and  2.015\n",
            "\n",
            "Lower Bound:  334.34\n",
            "Upper Bound:  370.0\n",
            "\n",
            "Confidence Interval: \n",
            " (334.33524059559835, 369.998092737735)\n"
          ]
        }
      ]
    },
    {
      "cell_type": "markdown",
      "source": [
        "P17.  A random sample of 16 fields of spring wheat has a mean yield of 46.4 bushels per acre and a standard deviation of 2.45 bushels per acre.  Determine the 80% confidence interval for the true mean yield.  Assume the population is normally distributed."
      ],
      "metadata": {
        "id": "YUhVOVzsJyha"
      }
    },
    {
      "cell_type": "code",
      "source": [
        "import math\n",
        "import scipy.stats as stats\n",
        "\n",
        "def fYield():\n",
        "  n = 16\n",
        "  mean = 46.4\n",
        "  sqList = []\n",
        "  \n",
        "  sD = 2.45\n",
        "  cT = stats.t.ppf(0.90, n-1)\n",
        "  err = cT*(sD/(n**(1/2)))\n",
        "  \n",
        "  lBound = mean - err\n",
        "  uBound = mean + err\n",
        "  \n",
        "  #using the built in t.interval function to double check\n",
        "  cInt = stats.t.interval(0.80, n-1, mean, sD/(n**(1/2)))\n",
        "\n",
        "  print('Sample Mean: ', round(mean, 2))\n",
        "  print('Sample Standard Deviation: ', round(sD, 2))\n",
        "  print('Critical Value: t =', -1*round(cT, 3), ' and ', round(cT, 3))\n",
        "  print('\\nLower Bound: ', round(lBound, 1)) \n",
        "  print('Upper Bound: ', round(uBound, 1))\n",
        "  print('\\nConfidence Interval: \\n', cInt)\n",
        "\n",
        "fYield()"
      ],
      "metadata": {
        "colab": {
          "base_uri": "https://localhost:8080/"
        },
        "id": "jh1vVJ1RKW1P",
        "outputId": "70cccde9-eb75-4e43-bd0c-8a575800f29d"
      },
      "execution_count": 50,
      "outputs": [
        {
          "output_type": "stream",
          "name": "stdout",
          "text": [
            "Sample Mean:  46.4\n",
            "Sample Standard Deviation:  2.45\n",
            "Critical Value: t = -1.341  and  1.341\n",
            "\n",
            "Lower Bound:  45.6\n",
            "Upper Bound:  47.2\n",
            "\n",
            "Confidence Interval: \n",
            " (45.57887906519159, 47.221120934808404)\n"
          ]
        }
      ]
    },
    {
      "cell_type": "markdown",
      "source": [
        "P18.  A toy manufacturer wants to know how many new toys children buy each year.  She thinks the mean is 8 toys per year.  Assume a previous study found the standard deviation to be 1.9.  How large of a sample would be required in order to estimate the mean number of toys bought per child at the 99% confidence level with an error of at most 0.13 toys?  (Round your answer up to the next integer)"
      ],
      "metadata": {
        "id": "QCc9cqp_LFRJ"
      }
    },
    {
      "cell_type": "code",
      "source": [
        "import math\n",
        "\n",
        "def toys():\n",
        "  pMean = 8\n",
        "  sigma = 1.9\n",
        "  alpha = 1-.99\n",
        "  #two-tailed b/c CI\n",
        "  z = stats.norm.ppf(1-alpha/2)\n",
        "  err = 0.13\n",
        "  n = ((z**2)*(sigma**2))/(err**2)\n",
        "  print('Sample size: ', math.ceil(n))\n",
        "\n",
        "toys()"
      ],
      "metadata": {
        "colab": {
          "base_uri": "https://localhost:8080/"
        },
        "id": "fnAEptCRLxlD",
        "outputId": "360535b1-8f91-4500-c724-6f6e7ccb0a4d"
      },
      "execution_count": 47,
      "outputs": [
        {
          "output_type": "stream",
          "name": "stdout",
          "text": [
            "Sample size:  1418\n"
          ]
        }
      ]
    },
    {
      "cell_type": "markdown",
      "source": [
        "P19. A research scientist wants to know how many times per hour a certain strand of bacteria reproduces.  He believes that the mean is 12.6.  Assume thhe variance is known to be 3.61.  How large of a sample would be required in order to estimate the mean number of reproductions per hour at the 95% confidence level with an error at most 0.19 reproductions?  (Round your answer up to the next integer)"
      ],
      "metadata": {
        "id": "fCeEsnxYrty8"
      }
    },
    {
      "cell_type": "code",
      "source": [
        "import math\n",
        "\n",
        "def nbact():\n",
        "  pMean = 12.6\n",
        "  v = 3.61\n",
        "  sigma = v**(1/2)\n",
        "  alpha = 1-.95\n",
        "  #two-tailed b/c CI\n",
        "  z = stats.norm.ppf(1-alpha/2)\n",
        "  err = 0.19\n",
        "  n = ((z**2)*(sigma**2))/(err**2)\n",
        "  print('Sample size: ', math.ceil(n))\n",
        "\n",
        "nbact()"
      ],
      "metadata": {
        "colab": {
          "base_uri": "https://localhost:8080/"
        },
        "id": "0qb3QB017fmF",
        "outputId": "7a676d03-4580-46a7-e7c9-7625ee306196"
      },
      "execution_count": 48,
      "outputs": [
        {
          "output_type": "stream",
          "name": "stdout",
          "text": [
            "Sample size:  385\n"
          ]
        }
      ]
    },
    {
      "cell_type": "markdown",
      "source": [
        "P20. The state education commission wants to estimate the fraction of tenth grade students that have reading skills at or below the eighth grade level.\n",
        "\n",
        "> Step 1. Suppose a sample of 2089 tenth graders is drawn.  Of the students sampled, 1734 read above the eighth grade level.  Using the data estimate the proportion of tenth graders reading at or below the eighth grade level.  (Write your answer as a fraction or a decimal number rounded to 3 decimal places)\n",
        "\n",
        "> Step 2. Suppose a sample of 2089 tenth graders is drawn.  Of the students sampled, 1734 read above the eighth grade level.  Using the data, construct the 98% condfidence interval for the population proportion of tenth graders reading at or below the eighth grade level.  (Round your answers to 3 decimal places)\n",
        "\n"
      ],
      "metadata": {
        "id": "EbV-KSAStudF"
      }
    },
    {
      "cell_type": "code",
      "source": [
        "import scipy.stats as stats\n",
        "import math\n",
        "\n",
        "def g8():\n",
        "  n = 2089\n",
        "  # sample proportion. 1734 above 8th grade level so 2089-1734 are below.\n",
        "  qHat = 1734/2089\n",
        "  pHat = 1 - qHat\n",
        "  alpha = 1-.98\n",
        "\n",
        "  print('Best point estimate: ', round(pHat, 3))\n",
        "\n",
        "  z = stats.norm.ppf(1-alpha/2)\n",
        "  err = z * math.sqrt((pHat*qHat)/n)\n",
        "\n",
        "  lB = pHat - err\n",
        "  uB = pHat + err\n",
        "\n",
        "  print('\\nLower Bound: ', round(lB, 3), '\\nUpper Bound: ', round(uB, 3))\n",
        "\n",
        "  #double check\n",
        "  cInt = stats.norm.interval(0.98, pHat, math.sqrt((pHat*qHat)/n))\n",
        "  print('\\nConfidence Interval: ', cInt)\n",
        "\n",
        "g8()"
      ],
      "metadata": {
        "colab": {
          "base_uri": "https://localhost:8080/"
        },
        "id": "tkJE8LVIAKfK",
        "outputId": "c58c1217-3363-418f-a542-9f6139e9a37e"
      },
      "execution_count": 23,
      "outputs": [
        {
          "output_type": "stream",
          "name": "stdout",
          "text": [
            "Best point estimate:  0.17\n",
            "\n",
            "Lower Bound:  0.151 \n",
            "Upper Bound:  0.189\n",
            "\n",
            "Confidence Interval:  (0.1508213863479125, 0.18905415218727187)\n"
          ]
        }
      ]
    },
    {
      "cell_type": "markdown",
      "source": [
        "P21. An environmentalist wants to find out the fraction of oil tankers that have spills each month. \n",
        "\n",
        "> Step 1. Suppose a sample of 474 tankers is drawn.  Of these ships, 156 had spills.  Using the data, estimate the proportion of oil tankers that had spills.  (Write your answer as a fraction or a decimal number rounded to 3 decimal places)\n",
        "\n",
        "> Step 2. Suppose a sample of 474 tankers is drawn.  Of these ships, 156 had spills.  Using the data, construct the 95% confidence interval for the population proportion of oil tankers that have spills each month.  (Round your answer to 3 decimal places)"
      ],
      "metadata": {
        "id": "hj6hSTUXvFXM"
      }
    },
    {
      "cell_type": "code",
      "source": [
        "def oTank():\n",
        "  n = 474\n",
        "  x = 156\n",
        "  ph = x/n\n",
        "  qh = 1 - ph\n",
        "\n",
        "  print('Best point estimate for population proportion: ', round(ph, 3))\n",
        "\n",
        "  alpha = 1 - .95\n",
        "\n",
        "  z = stats.norm.ppf(1-alpha/2)\n",
        "\n",
        "  err = z * math.sqrt((ph * qh)/n)\n",
        "\n",
        "  lb = ph - err\n",
        "  ub = ph + err\n",
        "\n",
        "  print('\\nLower Bound: ', round(lb, 3))\n",
        "  print('Upper Bound: ', round(ub, 3))\n",
        "\n",
        "  #double check\n",
        "  cInt = stats.norm.interval(.95, ph, math.sqrt((ph * qh)/n))\n",
        "\n",
        "  print('\\nConfidence Interval: ', cInt)\n",
        "\n",
        "oTank()"
      ],
      "metadata": {
        "colab": {
          "base_uri": "https://localhost:8080/"
        },
        "id": "0KSg_XvKGony",
        "outputId": "482a8df3-ba35-4f46-aa12-4baeabb513ea"
      },
      "execution_count": 36,
      "outputs": [
        {
          "output_type": "stream",
          "name": "stdout",
          "text": [
            "Best point estimate for population proportion:  0.329\n",
            "\n",
            "Lower Bound:  0.287\n",
            "Upper Bound:  0.371\n",
            "\n",
            "Confidence Interval:  (0.28681235878457545, 0.37141548931669033)\n"
          ]
        }
      ]
    }
  ]
}